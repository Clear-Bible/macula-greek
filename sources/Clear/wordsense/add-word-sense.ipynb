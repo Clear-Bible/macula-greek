{
 "cells": [
  {
   "cell_type": "markdown",
   "metadata": {},
   "source": [
    "## Imports"
   ]
  },
  {
   "cell_type": "code",
   "execution_count": 2,
   "metadata": {},
   "outputs": [],
   "source": [
    "# require lxml 4.9.1\n",
    "from lxml import etree\n",
    "import os"
   ]
  },
  {
   "cell_type": "markdown",
   "metadata": {},
   "source": [
    "## Constants"
   ]
  },
  {
   "cell_type": "code",
   "execution_count": 10,
   "metadata": {},
   "outputs": [],
   "source": [
    "WORD_SENSES = \"SensesOT.csv\"\n",
    "\n",
    "LOWFAT_SOURCE = \"../../../Nestle1904/lowfat\"\n",
    "NODES_SOURCE = \"../../../Nestle1904/lowfat\"\n",
    "\n",
    "LOWFAT_DEST = \"lowfat\"\n",
    "NODES_DEST = \"nodes\"\n"
   ]
  },
  {
   "cell_type": "markdown",
   "metadata": {},
   "source": [
    "## Methods"
   ]
  },
  {
   "cell_type": "code",
   "execution_count": 22,
   "metadata": {},
   "outputs": [],
   "source": [
    "def addWordSenseData(source, destination):\n",
    "    files = sorted(os.listdir(source))\n",
    "    # Only use the 27 manuscripts of the NT -- ignore other files.\n",
    "    for filename in files[:28]:\n",
    "        filepath = os.path.join(source, filename)\n",
    "        tree = etree.parse(filepath)\n",
    "        root = tree.getroot()\n",
    "        # for element in root.iter(tag=etree.Element):\n",
    "\n",
    "        for element in root.iter(tag=etree.Element):\n",
    "            print(element.tag, element.text)\n",
    "        "
   ]
  },
  {
   "cell_type": "code",
   "execution_count": 23,
   "metadata": {},
   "outputs": [
    {
     "ename": "XMLSyntaxError",
     "evalue": "xml:id : attribute value 400010010010082 is not an NCName, line 12, column 38 (01-matthew.xml, line 12)",
     "output_type": "error",
     "traceback": [
      "Traceback \u001b[0;36m(most recent call last)\u001b[0m:\n",
      "  File \u001b[1;32m\"/Users/sethhowell/Library/Python/3.9/lib/python/site-packages/IPython/core/interactiveshell.py\"\u001b[0m, line \u001b[1;32m3441\u001b[0m, in \u001b[1;35mrun_code\u001b[0m\n    exec(code_obj, self.user_global_ns, self.user_ns)\n",
      "  File \u001b[1;32m\"/var/folders/jm/7fp23jks6gn07fvs2ywycf3r0000gn/T/ipykernel_41121/2243388501.py\"\u001b[0m, line \u001b[1;32m1\u001b[0m, in \u001b[1;35m<module>\u001b[0m\n    addWordSenseData(LOWFAT_SOURCE, LOWFAT_DEST)\n",
      "  File \u001b[1;32m\"/var/folders/jm/7fp23jks6gn07fvs2ywycf3r0000gn/T/ipykernel_41121/3088833772.py\"\u001b[0m, line \u001b[1;32m6\u001b[0m, in \u001b[1;35maddWordSenseData\u001b[0m\n    tree = etree.parse(filepath)\n",
      "  File \u001b[1;32m\"src/lxml/etree.pyx\"\u001b[0m, line \u001b[1;32m3538\u001b[0m, in \u001b[1;35mlxml.etree.parse\u001b[0m\n",
      "  File \u001b[1;32m\"src/lxml/parser.pxi\"\u001b[0m, line \u001b[1;32m1876\u001b[0m, in \u001b[1;35mlxml.etree._parseDocument\u001b[0m\n",
      "  File \u001b[1;32m\"src/lxml/parser.pxi\"\u001b[0m, line \u001b[1;32m1902\u001b[0m, in \u001b[1;35mlxml.etree._parseDocumentFromURL\u001b[0m\n",
      "  File \u001b[1;32m\"src/lxml/parser.pxi\"\u001b[0m, line \u001b[1;32m1805\u001b[0m, in \u001b[1;35mlxml.etree._parseDocFromFile\u001b[0m\n",
      "  File \u001b[1;32m\"src/lxml/parser.pxi\"\u001b[0m, line \u001b[1;32m1177\u001b[0m, in \u001b[1;35mlxml.etree._BaseParser._parseDocFromFile\u001b[0m\n",
      "  File \u001b[1;32m\"src/lxml/parser.pxi\"\u001b[0m, line \u001b[1;32m615\u001b[0m, in \u001b[1;35mlxml.etree._ParserContext._handleParseResultDoc\u001b[0m\n",
      "  File \u001b[1;32m\"src/lxml/parser.pxi\"\u001b[0m, line \u001b[1;32m725\u001b[0m, in \u001b[1;35mlxml.etree._handleParseResult\u001b[0m\n",
      "\u001b[0;36m  File \u001b[0;32m\"src/lxml/parser.pxi\"\u001b[0;36m, line \u001b[0;32m654\u001b[0;36m, in \u001b[0;35mlxml.etree._raiseParseError\u001b[0;36m\u001b[0m\n",
      "\u001b[0;36m  File \u001b[0;32m\"../../../Nestle1904/lowfat/01-matthew.xml\"\u001b[0;36m, line \u001b[0;32m12\u001b[0m\n\u001b[0;31m    xml:id=\"400010010010082\">\u001b[0m\n\u001b[0m                           ^\u001b[0m\n\u001b[0;31mXMLSyntaxError\u001b[0m\u001b[0;31m:\u001b[0m xml:id : attribute value 400010010010082 is not an NCName, line 12, column 38\n"
     ]
    }
   ],
   "source": [
    "addWordSenseData(LOWFAT_SOURCE, LOWFAT_DEST)"
   ]
  }
 ],
 "metadata": {
  "interpreter": {
   "hash": "7812ea015bdcee6f23a998adcdd2ef97c151c0c241b7b7070987d9313e41299d"
  },
  "kernelspec": {
   "display_name": "Python 3.9.5 64-bit",
   "language": "python",
   "name": "python3"
  },
  "language_info": {
   "codemirror_mode": {
    "name": "ipython",
    "version": 3
   },
   "file_extension": ".py",
   "mimetype": "text/x-python",
   "name": "python",
   "nbconvert_exporter": "python",
   "pygments_lexer": "ipython3",
   "version": "3.9.5"
  },
  "orig_nbformat": 4
 },
 "nbformat": 4,
 "nbformat_minor": 2
}
