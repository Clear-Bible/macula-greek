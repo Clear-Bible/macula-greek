{
 "cells": [
  {
   "cell_type": "markdown",
   "metadata": {},
   "source": [
    "## Imports"
   ]
  },
  {
   "cell_type": "code",
   "execution_count": 199,
   "metadata": {},
   "outputs": [],
   "source": [
    "# require lxml 4.9.1\n",
    "from lxml import etree\n",
    "import os\n",
    "import pandas as pd\n",
    "from collections import OrderedDict"
   ]
  },
  {
   "cell_type": "markdown",
   "metadata": {},
   "source": [
    "## Constants"
   ]
  },
  {
   "cell_type": "code",
   "execution_count": 200,
   "metadata": {},
   "outputs": [],
   "source": [
    "WORD_SENSES = \"SensesNT.csv\"\n",
    "\n",
    "LOWFAT_SOURCE = \"../../../Nestle1904/lowfat\"\n",
    "NODES_SOURCE = \"../../../Nestle1904/lowfat\"\n",
    "\n",
    "LOWFAT_DEST = \"lowfat\"\n",
    "NODES_DEST = \"nodes\"\n",
    "\n",
    "NAMESPACE = \"{http://www.w3.org/XML/1998/namespace}id\"\n",
    "\n",
    "SENSE_ATTR = \"sense\""
   ]
  },
  {
   "cell_type": "markdown",
   "metadata": {},
   "source": [
    "## Methods"
   ]
  },
  {
   "cell_type": "code",
   "execution_count": 201,
   "metadata": {},
   "outputs": [],
   "source": [
    "def getSenseDataDict():\n",
    "    senseDict = {}\n",
    "    df = pd.read_csv(WORD_SENSES, dtype=str)\n",
    "    for index, row in df.iterrows():\n",
    "        strong = row['StrongNumber']\n",
    "        sense = row['SenseNumber']\n",
    "        # Create a key for each instance.\n",
    "        try:\n",
    "            instances = row['Instances'].split()\n",
    "            if strong not in senseDict:\n",
    "                senseDict[strong] = {}\n",
    "            for inst in instances:\n",
    "                senseDict[strong][inst] = sense\n",
    "        # There were no instances.\n",
    "        except:\n",
    "            continue\n",
    "    return senseDict"
   ]
  },
  {
   "cell_type": "code",
   "execution_count": 202,
   "metadata": {},
   "outputs": [],
   "source": [
    "# Add leading 0s when len(strong) < 4.\n",
    "def addZeros(strong):\n",
    "    strongPadded = \"\" + strong\n",
    "    l = 4 - len(strong)\n",
    "    while l > 0:\n",
    "        strongPadded = \"0\" + strongPadded \n",
    "        l -= 1\n",
    "    return strongPadded"
   ]
  },
  {
   "cell_type": "code",
   "execution_count": 211,
   "metadata": {},
   "outputs": [],
   "source": [
    "def addWordSenseData(source, destination):\n",
    "    \n",
    "    senseDict = getSenseDataDict()\n",
    "    files = sorted(os.listdir(source))\n",
    "    missingData = {}\n",
    "    # Only use the 27 manuscripts of the NT -- ignore other files.\n",
    "    for filename in files[:27]:\n",
    "\n",
    "        readpath = os.path.join(source, filename)\n",
    "        writepath = os.path.join(destination, filename)\n",
    "        tree = etree.parse(readpath)\n",
    "        root = tree.getroot()\n",
    "\n",
    "        for element in root.iter('w'):\n",
    "            # Don't include the id prefix 'n'.\n",
    "            id = element.attrib.get(NAMESPACE)[1:]\n",
    "            # '0010' is at the end of nodes in Sense file.\n",
    "            idPadded = id + '0010'\n",
    "            strong = element.attrib.get('strong')\n",
    "            strongPadded = addZeros(strong)\n",
    "            try:\n",
    "                senseNumber = senseDict[strongPadded][idPadded]\n",
    "                element.set(SENSE_ATTR, senseNumber)\n",
    "            except:\n",
    "                if strongPadded not in missingData:\n",
    "                    missingData[strongPadded] = id\n",
    "                elif strongPadded in missingData:\n",
    "                    missingData[strongPadded] += \" \" + id\n",
    "                element.set(SENSE_ATTR, 'TBD')\n",
    "\n",
    "        # Write updated xml tree to file. \n",
    "        tree.write(open(writepath, 'wb'))\n",
    "\n",
    "    return missingData"
   ]
  },
  {
   "cell_type": "code",
   "execution_count": 212,
   "metadata": {},
   "outputs": [],
   "source": [
    "# Count total number of word nodes in Greek NT.\n",
    "def getTotalWordNodes(source):\n",
    "    files = sorted(os.listdir(source))\n",
    "    count = 0\n",
    "    for filename in files[:27]:\n",
    "\n",
    "        filepath = os.path.join(source, filename)\n",
    "        tree = etree.parse(filepath)\n",
    "        root = tree.getroot()\n",
    "\n",
    "        for element in root.iter('w'):\n",
    "            count += 1\n",
    "\n",
    "    return count"
   ]
  },
  {
   "cell_type": "code",
   "execution_count": 213,
   "metadata": {},
   "outputs": [],
   "source": [
    "# Pass in result from addWordSenseData\n",
    "def printMissingNodes(data):\n",
    "    x = OrderedDict(sorted(data.items()))\n",
    "    print('strong' + \",\" + 'instances')\n",
    "    for k,v in x.items():\n",
    "        print(k + \",\" + v)"
   ]
  },
  {
   "cell_type": "code",
   "execution_count": 214,
   "metadata": {},
   "outputs": [],
   "source": [
    "def getTotalNodes(data):\n",
    "    total = 0\n",
    "    for k,v in data.items():\n",
    "        total += len(v.split())\n",
    "    return total"
   ]
  },
  {
   "cell_type": "code",
   "execution_count": 215,
   "metadata": {},
   "outputs": [],
   "source": [
    "# Number of instances in sense data. \n",
    "def getSenseNodeCount():\n",
    "    total = 0\n",
    "    for k,v in getSenseDataDict().items():\n",
    "        for k in v.keys():\n",
    "            if k[-4:] != \"0010\":\n",
    "                print(k)\n",
    "            else:\n",
    "                total += 1\n",
    "    return total"
   ]
  },
  {
   "cell_type": "markdown",
   "metadata": {},
   "source": [
    "## Execute Methods"
   ]
  },
  {
   "cell_type": "code",
   "execution_count": 216,
   "metadata": {},
   "outputs": [],
   "source": [
    "nodes = addWordSenseData(NODES_SOURCE, NODES_DEST)"
   ]
  },
  {
   "cell_type": "code",
   "execution_count": 217,
   "metadata": {},
   "outputs": [],
   "source": [
    "lowfat = addWordSenseData(LOWFAT_SOURCE, LOWFAT_DEST)"
   ]
  },
  {
   "cell_type": "code",
   "execution_count": 218,
   "metadata": {},
   "outputs": [
    {
     "name": "stdout",
     "output_type": "stream",
     "text": [
      "83209\n"
     ]
    }
   ],
   "source": [
    "print(getTotalNodes(nodes))"
   ]
  }
 ],
 "metadata": {
  "interpreter": {
   "hash": "7812ea015bdcee6f23a998adcdd2ef97c151c0c241b7b7070987d9313e41299d"
  },
  "kernelspec": {
   "display_name": "Python 3.9.5 64-bit",
   "language": "python",
   "name": "python3"
  },
  "language_info": {
   "codemirror_mode": {
    "name": "ipython",
    "version": 3
   },
   "file_extension": ".py",
   "mimetype": "text/x-python",
   "name": "python",
   "nbconvert_exporter": "python",
   "pygments_lexer": "ipython3",
   "version": "3.9.5"
  },
  "orig_nbformat": 4
 },
 "nbformat": 4,
 "nbformat_minor": 2
}
