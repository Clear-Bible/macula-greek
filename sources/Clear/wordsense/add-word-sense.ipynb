{
 "cells": [
  {
   "cell_type": "markdown",
   "metadata": {},
   "source": [
    "## Imports"
   ]
  },
  {
   "cell_type": "code",
   "execution_count": 133,
   "metadata": {},
   "outputs": [],
   "source": [
    "# require lxml 4.9.1\n",
    "from lxml import etree\n",
    "import os\n",
    "import pandas as pd"
   ]
  },
  {
   "cell_type": "markdown",
   "metadata": {},
   "source": [
    "## Constants"
   ]
  },
  {
   "cell_type": "code",
   "execution_count": 134,
   "metadata": {},
   "outputs": [],
   "source": [
    "WORD_SENSES = \"SensesNT.csv\"\n",
    "\n",
    "LOWFAT_SOURCE = \"../../../Nestle1904/lowfat\"\n",
    "NODES_SOURCE = \"../../../Nestle1904/lowfat\"\n",
    "\n",
    "LOWFAT_DEST = \"lowfat\"\n",
    "NODES_DEST = \"nodes\"\n",
    "\n",
    "NAMESPACE = \"{http://www.w3.org/XML/1998/namespace}id\""
   ]
  },
  {
   "cell_type": "markdown",
   "metadata": {},
   "source": [
    "## Methods"
   ]
  },
  {
   "cell_type": "code",
   "execution_count": 135,
   "metadata": {},
   "outputs": [],
   "source": [
    "def getSenseDataDict():\n",
    "    senseDict = {}\n",
    "    df = pd.read_csv(WORD_SENSES, dtype=str)\n",
    "    for index, row in df.iterrows():\n",
    "        strong = row['StrongNumber']\n",
    "        sense = row['SenseNumber']\n",
    "        # Create a key for each instance.\n",
    "        try:\n",
    "            instances = row['Instances'].split()\n",
    "            if strong not in senseDict:\n",
    "                senseDict[strong] = {}\n",
    "            for inst in instances:\n",
    "                senseDict[strong][inst] = sense\n",
    "        # There were no instances.\n",
    "        except:\n",
    "            continue\n",
    "    return senseDict"
   ]
  },
  {
   "cell_type": "code",
   "execution_count": 136,
   "metadata": {},
   "outputs": [],
   "source": [
    "# Add leading 0s when len(strong) < 4.\n",
    "def addZeros(strong):\n",
    "    strongPadded = \"\" + strong\n",
    "    l = 4 - len(strong)\n",
    "    while l > 0:\n",
    "        strongPadded = \"0\" + strongPadded \n",
    "        l -= 1\n",
    "    return strongPadded"
   ]
  },
  {
   "cell_type": "code",
   "execution_count": 147,
   "metadata": {},
   "outputs": [],
   "source": [
    "def addWordSenseData(source, destination):\n",
    "    \n",
    "    senseDict = getSenseDataDict()\n",
    "    files = sorted(os.listdir(source))\n",
    "    # Only use the 27 manuscripts of the NT -- ignore other files.\n",
    "    missingData = {}\n",
    "\n",
    "    for filename in files[:27]:\n",
    "\n",
    "        filepath = os.path.join(source, filename)\n",
    "        tree = etree.parse(filepath)\n",
    "        root = tree.getroot()\n",
    "\n",
    "        for element in root.iter('w'):\n",
    "            # Don't include the id prefix 'n'.\n",
    "            id = element.attrib.get(NAMESPACE)[1:]\n",
    "            # '0010' is at the end of nodes in Sense file.\n",
    "            idPadded = id + '0010'\n",
    "            strong = element.attrib.get('strong')\n",
    "            strongPadded = addZeros(strong)\n",
    "            try:\n",
    "                senseNumber = senseDict[strongPadded][idPadded]\n",
    "                print(id, senseNumber)\n",
    "            except:\n",
    "                if strongPadded not in missingData:\n",
    "                    missingData[strongPadded] = id\n",
    "                elif strongPadded in missingData:\n",
    "                    missingData[strongPadded] += \" \" + id\n",
    "\n",
    "    return missingData"
   ]
  },
  {
   "cell_type": "code",
   "execution_count": 148,
   "metadata": {},
   "outputs": [],
   "source": [
    "# Count total number of word nodes in Greek NT.\n",
    "def getTotalWordNodes(source):\n",
    "    files = sorted(os.listdir(source))\n",
    "    count = 0\n",
    "    for filename in files[:27]:\n",
    "\n",
    "        filepath = os.path.join(source, filename)\n",
    "        tree = etree.parse(filepath)\n",
    "        root = tree.getroot()\n",
    "\n",
    "        for element in root.iter('w'):\n",
    "            count += 1\n",
    "\n",
    "    return count\n",
    "\n",
    "# print(getTotalWordNodes(LOWFAT_SOURCE))"
   ]
  },
  {
   "cell_type": "code",
   "execution_count": null,
   "metadata": {},
   "outputs": [],
   "source": [
    "d = addWordSenseData(LOWFAT_SOURCE, LOWFAT_DEST)"
   ]
  },
  {
   "cell_type": "code",
   "execution_count": null,
   "metadata": {},
   "outputs": [],
   "source": [
    "from collections import OrderedDict\n",
    "a = OrderedDict(sorted(d.items()))\n",
    "\n",
    "print('strong' + \",\" + 'instances')\n",
    "for k,v in a.items():\n",
    "    print(k + \",\" + v)"
   ]
  },
  {
   "cell_type": "code",
   "execution_count": 151,
   "metadata": {},
   "outputs": [
    {
     "name": "stdout",
     "output_type": "stream",
     "text": [
      "83209\n"
     ]
    }
   ],
   "source": [
    "total = 0\n",
    "for k,v in a.items():\n",
    "    total += len(v.split())\n",
    "print(total)"
   ]
  },
  {
   "cell_type": "code",
   "execution_count": 142,
   "metadata": {},
   "outputs": [
    {
     "name": "stdout",
     "output_type": "stream",
     "text": [
      "60574\n"
     ]
    }
   ],
   "source": [
    "# Number of instances in sense data. \n",
    "total = 0\n",
    "for k,v in getSenseDataDict().items():\n",
    "    for k in v.keys():\n",
    "        if k[-4:] != \"0010\":\n",
    "            print(k)\n",
    "        else:\n",
    "            total += 1\n",
    "print(total)"
   ]
  }
 ],
 "metadata": {
  "interpreter": {
   "hash": "7812ea015bdcee6f23a998adcdd2ef97c151c0c241b7b7070987d9313e41299d"
  },
  "kernelspec": {
   "display_name": "Python 3.9.5 64-bit",
   "language": "python",
   "name": "python3"
  },
  "language_info": {
   "codemirror_mode": {
    "name": "ipython",
    "version": 3
   },
   "file_extension": ".py",
   "mimetype": "text/x-python",
   "name": "python",
   "nbconvert_exporter": "python",
   "pygments_lexer": "ipython3",
   "version": "3.9.5"
  },
  "orig_nbformat": 4
 },
 "nbformat": 4,
 "nbformat_minor": 2
}
